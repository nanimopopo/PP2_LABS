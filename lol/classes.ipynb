{
 "cells": [
  {
   "cell_type": "code",
   "execution_count": 1,
   "metadata": {},
   "outputs": [
    {
     "name": "stdout",
     "output_type": "stream",
     "text": [
      "Area of Shape: 0\n",
      "Area of Square: 25\n",
      "Area of Square: 100\n"
     ]
    }
   ],
   "source": [
    "class Shape:\n",
    "    def area(self):\n",
    "        print(\"Area of Shape: 0\")\n",
    "\n",
    "class Square(Shape):\n",
    "    def __init__(self, length):\n",
    "        self.length = length\n",
    "\n",
    "    def area(self):\n",
    "        area = self.length * self.length\n",
    "        print(f\"Area of Square: {area}\")\n",
    "\n",
    "shape = Shape()\n",
    "shape.area()\n",
    "\n",
    "square = Square(5)\n",
    "square.area()\n",
    "\n",
    "square2 = Square(10)\n",
    "square2.area()"
   ]
  },
  {
   "cell_type": "code",
   "execution_count": 4,
   "metadata": {},
   "outputs": [
    {
     "name": "stdout",
     "output_type": "stream",
     "text": [
      "24\n"
     ]
    }
   ],
   "source": [
    "class Shape:\n",
    "    def area(self):\n",
    "        print(\"Area of Shape: 0\")\n",
    "\n",
    "class Rectangle(Shape):\n",
    "    def __init__(self, length, width):\n",
    "        self.length=length\n",
    "        self.width=width\n",
    "    def area(self):\n",
    "        area=self.length*self.width\n",
    "        print(area)\n",
    "\n",
    "shape = Rectangle(4,6)\n",
    "shape.area()"
   ]
  },
  {
   "cell_type": "code",
   "execution_count": 2,
   "metadata": {},
   "outputs": [
    {
     "name": "stdout",
     "output_type": "stream",
     "text": [
      "HELLO\n"
     ]
    }
   ],
   "source": [
    "class StringManipulator:\n",
    "    def getString(self):\n",
    "        self.input_string = input(\"Enter a string: \")\n",
    "\n",
    "    def printString(self):\n",
    "        if hasattr(self, 'input_string'):  \n",
    "            print(self.input_string.upper())\n",
    "        else:\n",
    "            print(\"No string has been input yet.\")\n",
    "\n",
    "\n",
    "string_obj = StringManipulator()\n",
    "string_obj.getString()\n",
    "string_obj.printString()"
   ]
  },
  {
   "cell_type": "code",
   "execution_count": 5,
   "metadata": {},
   "outputs": [
    {
     "name": "stdout",
     "output_type": "stream",
     "text": [
      "Coordinates: (2, 3)\n",
      "Coordinates: (5, 7)\n",
      "Coordinates: (10, 15)\n",
      "Distance between point1 and point2: 9.433981132056603\n"
     ]
    }
   ],
   "source": [
    "import math\n",
    "\n",
    "class Point:\n",
    "    def __init__(self, x=0, y=0):  \n",
    "        self.x = x\n",
    "        self.y = y\n",
    "\n",
    "    def show(self):\n",
    "        print(f\"Coordinates: ({self.x}, {self.y})\")\n",
    "\n",
    "    def move(self, new_x, new_y):\n",
    "        self.x = new_x\n",
    "        self.y = new_y\n",
    "\n",
    "    def dist(self, other_point):  \n",
    "        dx = self.x - other_point.x\n",
    "        dy = self.y - other_point.y\n",
    "        distance = math.sqrt(dx**2 + dy**2)\n",
    "        return distance\n",
    "\n",
    "\n",
    "point1 = Point(2, 3)\n",
    "point1.show()  \n",
    "\n",
    "point2 = Point(5, 7)\n",
    "point2.show()  \n",
    "\n",
    "point1.move(10, 15)\n",
    "point1.show()  \n",
    "\n",
    "distance = point1.dist(point2)\n",
    "print(f\"Distance between point1 and point2: {distance}\")\n"
   ]
  },
  {
   "cell_type": "code",
   "execution_count": 6,
   "metadata": {},
   "outputs": [
    {
     "name": "stdout",
     "output_type": "stream",
     "text": [
      "Account Owner: Alice, Balance: $100\n",
      "Deposited $50. Current balance: $150\n",
      "Withdrawal amount exceeds available balance.\n",
      "Withdrew $75. Current balance: $75\n",
      "Deposit amount must be positive.\n",
      "Withdrawal amount must be positive.\n",
      "Account Owner: Alice, Balance: $75\n",
      "Deposited $100. Current balance: $100\n",
      "Withdrew $50. Current balance: $50\n",
      "Withdrawal amount exceeds available balance.\n",
      "Account Owner: Bob, Balance: $50\n"
     ]
    }
   ],
   "source": [
    "class BankAccount:\n",
    "    def __init__(self, owner, balance=0):\n",
    "        self.owner = owner\n",
    "        self.balance = balance\n",
    "\n",
    "    def deposit(self, amount):\n",
    "        if amount > 0:\n",
    "            self.balance += amount\n",
    "            print(f\"Deposited ${amount}. Current balance: ${self.balance}\")\n",
    "        else:\n",
    "            print(\"Deposit amount must be positive.\")\n",
    "\n",
    "    def withdraw(self, amount):\n",
    "        if amount > 0:\n",
    "            if amount <= self.balance:\n",
    "                self.balance -= amount\n",
    "                print(f\"Withdrew ${amount}. Current balance: ${self.balance}\")\n",
    "            else:\n",
    "                print(\"Withdrawal amount exceeds available balance.\")\n",
    "        else:\n",
    "            print(\"Withdrawal amount must be positive.\")\n",
    "\n",
    "    def __str__(self):\n",
    "        return f\"Account Owner: {self.owner}, Balance: ${self.balance}\"\n",
    "\n",
    "account1 = BankAccount(\"Alice\", 100)\n",
    "print(account1)\n",
    "\n",
    "account1.deposit(50)\n",
    "account1.withdraw(200)\n",
    "account1.withdraw(75)\n",
    "account1.deposit(-10)\n",
    "account1.withdraw(-20)\n",
    "print(account1)\n",
    "\n",
    "account2 = BankAccount(\"Bob\")\n",
    "account2.deposit(100)\n",
    "account2.withdraw(50)\n",
    "account2.withdraw(75)\n",
    "print(account2)"
   ]
  },
  {
   "cell_type": "code",
   "execution_count": 14,
   "metadata": {},
   "outputs": [
    {
     "name": "stdout",
     "output_type": "stream",
     "text": [
      "[2, 3, 5, 7]\n"
     ]
    }
   ],
   "source": [
    "numbers = [2, 3, 4, 5, 6, 7]\n",
    "\n",
    "prime_numbers = list(filter(lambda x: x > 1 and all(x % i != 0 for i in range(2, x)), numbers))\n",
    "\n",
    "print(prime_numbers)  "
   ]
  }
 ],
 "metadata": {
  "kernelspec": {
   "display_name": "Python 3",
   "language": "python",
   "name": "python3"
  },
  "language_info": {
   "codemirror_mode": {
    "name": "ipython",
    "version": 3
   },
   "file_extension": ".py",
   "mimetype": "text/x-python",
   "name": "python",
   "nbconvert_exporter": "python",
   "pygments_lexer": "ipython3",
   "version": "3.11.0"
  }
 },
 "nbformat": 4,
 "nbformat_minor": 2
}
