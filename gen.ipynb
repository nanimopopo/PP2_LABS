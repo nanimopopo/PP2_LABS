{
 "cells": [
  {
   "cell_type": "code",
   "execution_count": 4,
   "metadata": {},
   "outputs": [
    {
     "name": "stdout",
     "output_type": "stream",
     "text": [
      "1\n",
      "4\n",
      "9\n",
      "16\n",
      "25\n"
     ]
    }
   ],
   "source": [
    "def generator(number):\n",
    "    for i in range(1,number+1):\n",
    "        yield i**2\n",
    "\n",
    "n=int(input())\n",
    "for value in generator(n):\n",
    "    print(value)\n",
    "\n",
    "##class iterator:\n",
    "##    def __init__(self, number):\n",
    "##        self.number=number\n",
    "##        self.current=1\n",
    "##    def __iter__(self):\n",
    "##        return self\n",
    "##    def __next__(self):\n",
    "##        if self.current>self.number:\n",
    "##            raise StopIteration\n",
    "##        result=self.current\n",
    "##        self.current+=1\n",
    "##        return result\n",
    "    "
   ]
  },
  {
   "cell_type": "code",
   "execution_count": 12,
   "metadata": {},
   "outputs": [
    {
     "name": "stdout",
     "output_type": "stream",
     "text": [
      "0,2,4\n"
     ]
    }
   ],
   "source": [
    "def generator(number):\n",
    "    for i in range(0,n+1):\n",
    "        if (i%2==0):\n",
    "            yield i\n",
    "            \n",
    "\n",
    "n=int(input())\n",
    "print(\",\".join(map(str, generator(n))))"
   ]
  },
  {
   "cell_type": "code",
   "execution_count": 14,
   "metadata": {},
   "outputs": [
    {
     "name": "stdout",
     "output_type": "stream",
     "text": [
      "0\n",
      "6\n",
      "12\n",
      "18\n",
      "24\n",
      "30\n",
      "36\n"
     ]
    }
   ],
   "source": [
    "def func(num):\n",
    "    def generator(num):\n",
    "        for i in range(0,num+1):\n",
    "            if (i%2==0 and i%3==0):\n",
    "                yield i\n",
    "    for value in generator(num):\n",
    "        print(value)\n",
    "n=int(input())\n",
    "func(n)"
   ]
  },
  {
   "cell_type": "code",
   "execution_count": 15,
   "metadata": {},
   "outputs": [
    {
     "name": "stdout",
     "output_type": "stream",
     "text": [
      "16,25,36,49,64\n"
     ]
    }
   ],
   "source": [
    "def generator(n1,n2):\n",
    "    for i in range(n1,n2+1):\n",
    "        yield i**2\n",
    "a=int(input())\n",
    "b=int(input())\n",
    "print(\",\".join(map(str, generator(a,b))))\n"
   ]
  },
  {
   "cell_type": "code",
   "execution_count": 19,
   "metadata": {},
   "outputs": [
    {
     "name": "stdout",
     "output_type": "stream",
     "text": [
      "10\n",
      "9\n",
      "8\n",
      "7\n",
      "6\n",
      "5\n",
      "4\n",
      "3\n",
      "2\n",
      "1\n",
      "0\n"
     ]
    }
   ],
   "source": [
    "def generator(num):\n",
    "    while(num!=-1):\n",
    "        yield num\n",
    "        num=num-1\n",
    "n=int(input())\n",
    "for value in generator(n):\n",
    "    print(value)"
   ]
  }
 ],
 "metadata": {
  "kernelspec": {
   "display_name": "Python 3",
   "language": "python",
   "name": "python3"
  },
  "language_info": {
   "codemirror_mode": {
    "name": "ipython",
    "version": 3
   },
   "file_extension": ".py",
   "mimetype": "text/x-python",
   "name": "python",
   "nbconvert_exporter": "python",
   "pygments_lexer": "ipython3",
   "version": "3.11.0"
  }
 },
 "nbformat": 4,
 "nbformat_minor": 2
}
