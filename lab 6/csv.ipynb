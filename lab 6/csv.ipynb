{
 "cells": [
  {
   "cell_type": "code",
   "execution_count": 1,
   "metadata": {},
   "outputs": [],
   "source": [
    "import os"
   ]
  },
  {
   "cell_type": "code",
   "execution_count": 5,
   "metadata": {},
   "outputs": [
    {
     "ename": "FileExistsError",
     "evalue": "[WinError 183] Cannot create a file when that file already exists: 'new_directory'",
     "output_type": "error",
     "traceback": [
      "\u001b[1;31m---------------------------------------------------------------------------\u001b[0m",
      "\u001b[1;31mFileExistsError\u001b[0m                           Traceback (most recent call last)",
      "Cell \u001b[1;32mIn[5], line 1\u001b[0m\n\u001b[1;32m----> 1\u001b[0m \u001b[43mos\u001b[49m\u001b[38;5;241;43m.\u001b[39;49m\u001b[43mmkdir\u001b[49m\u001b[43m(\u001b[49m\u001b[38;5;124;43m\"\u001b[39;49m\u001b[38;5;124;43mnew_directory\u001b[39;49m\u001b[38;5;124;43m\"\u001b[39;49m\u001b[43m)\u001b[49m\n",
      "\u001b[1;31mFileExistsError\u001b[0m: [WinError 183] Cannot create a file when that file already exists: 'new_directory'"
     ]
    }
   ],
   "source": [
    "os.mkdir(\"new_directory\")"
   ]
  },
  {
   "cell_type": "code",
   "execution_count": 16,
   "metadata": {},
   "outputs": [
    {
     "name": "stdout",
     "output_type": "stream",
     "text": [
      "['builtin.ipynb', 'csv.ipynb', 'new_directory']\n"
     ]
    }
   ],
   "source": [
    "print(os.listdir())\n"
   ]
  },
  {
   "cell_type": "code",
   "execution_count": 18,
   "metadata": {},
   "outputs": [
    {
     "name": "stdout",
     "output_type": "stream",
     "text": [
      "[['new_directory']]\n",
      "[['builtin.ipynb', 'csv.ipynb']]\n"
     ]
    }
   ],
   "source": [
    "path=os.getcwd()\n",
    "Directory=[]\n",
    "Files=[]\n",
    "if os.path.exists(path):\n",
    "    Directory.append([d for d in os.listdir(path) if os.path.isdir(os.path.join(path,d))])\n",
    "    Files.append([f for f in os.listdir(path) if os.path.isfile(os.path.join(path,f))])\n",
    "print(Directory)\n",
    "print(Files)"
   ]
  },
  {
   "cell_type": "code",
   "execution_count": 30,
   "metadata": {},
   "outputs": [
    {
     "name": "stdout",
     "output_type": "stream",
     "text": [
      "Doesnt exist\n",
      "Does the path exists: False\n",
      "Access to read the file: False\n",
      "Access to write to file: False\n",
      "Can path be executed: False\n"
     ]
    }
   ],
   "source": [
    "path=input()\n",
    "if os.path.exists(path):\n",
    "    print(\"Exists\")\n",
    "else:\n",
    "    print(\"Doesnt exist\")\n",
    "\n",
    "# Check existance with os.F_OK\n",
    "path1 = os.access(path, os.F_OK)\n",
    "print(\"Does the path exists:\", path1)\n",
    "\n",
    "# Check access with os.R_OK\n",
    "path2 = os.access(path, os.R_OK)\n",
    "print(\"Access to read the file:\", path2)\n",
    "\n",
    "# Check access with os.W_OK\n",
    "path3 = os.access(path, os.W_OK)\n",
    "print(\"Access to write to file:\", path3)\n",
    "\n",
    "# Check access with os.X_OK\n",
    "path4 = os.access(path, os.X_OK)\n",
    "print(\"Can path be executed:\", path4)"
   ]
  },
  {
   "cell_type": "code",
   "execution_count": 31,
   "metadata": {},
   "outputs": [
    {
     "name": "stdout",
     "output_type": "stream",
     "text": [
      "[['Klei', 'League of Legends', 'Visual Studio 2022', 'Настраиваемые шаблоны Office']]\n",
      "[['essay.docx', 'Home work.docx', 'Kazakhstan.docx', 'Model.xlsx', 'Model1.xlsx', 'The table illustrates collected data about the underground subway system located in six different parts of the world comparing their opening dates.docx', 'Амирхан Нуржанов срс неделя 12.docx', 'Лекция 11 неделя.docx']]\n"
     ]
    }
   ],
   "source": [
    "path=input()\n",
    "Directory=[]\n",
    "Files=[]\n",
    "if os.path.exists(path):\n",
    "    Directory.append([d for d in os.listdir(path) if os.path.isdir(os.path.join(path,d))])\n",
    "    Files.append([f for f in os.listdir(path) if os.path.isfile(os.path.join(path,f))])\n",
    "print(Directory)\n",
    "print(Files)"
   ]
  },
  {
   "cell_type": "code",
   "execution_count": null,
   "metadata": {},
   "outputs": [],
   "source": [
    "path=input()\n",
    "file_name=input()\n",
    "file_path=os.path.join(path,file_name)\n",
    "if os.path.exists(file_path):\n",
    "    if os.access(file_path, os.W_OK):\n",
    "        os.remove(file_path)\n",
    "    else:\n",
    "        print(\"File can't be deleted\")\n",
    "else:\n",
    "    print(\"Path with this file name doesn't exist\")"
   ]
  },
  {
   "cell_type": "code",
   "execution_count": 37,
   "metadata": {},
   "outputs": [
    {
     "name": "stdout",
     "output_type": "stream",
     "text": [
      "6\n"
     ]
    }
   ],
   "source": [
    "file=open(\"text.txt\",'r')\n",
    "sum=0\n",
    "for line in file:\n",
    "    sum+=1\n",
    "print(sum)"
   ]
  },
  {
   "cell_type": "code",
   "execution_count": 45,
   "metadata": {},
   "outputs": [],
   "source": [
    "import string\n",
    "for letter in string.ascii_uppercase:\n",
    "    file=open(f\"{letter}\",'w')\n"
   ]
  },
  {
   "cell_type": "code",
   "execution_count": 49,
   "metadata": {},
   "outputs": [],
   "source": [
    "list1=[1,2,3,4,5]\n",
    "file=open(\"List file\",'w')\n",
    "for elem in list1:\n",
    "    file.write(f\"{elem}\\n\")\n",
    "file.close()"
   ]
  },
  {
   "cell_type": "code",
   "execution_count": 55,
   "metadata": {},
   "outputs": [
    {
     "data": {
      "text/plain": [
       "10"
      ]
     },
     "execution_count": 55,
     "metadata": {},
     "output_type": "execute_result"
    }
   ],
   "source": [
    "file1=open(\"List file\",'r')\n",
    "file2=open(\"Copied contents\",'w')\n",
    "file2.write(file1.read())"
   ]
  }
 ],
 "metadata": {
  "kernelspec": {
   "display_name": "Python 3",
   "language": "python",
   "name": "python3"
  },
  "language_info": {
   "codemirror_mode": {
    "name": "ipython",
    "version": 3
   },
   "file_extension": ".py",
   "mimetype": "text/x-python",
   "name": "python",
   "nbconvert_exporter": "python",
   "pygments_lexer": "ipython3",
   "version": "3.11.0"
  }
 },
 "nbformat": 4,
 "nbformat_minor": 2
}
