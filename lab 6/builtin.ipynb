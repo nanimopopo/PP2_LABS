{
 "cells": [
  {
   "cell_type": "code",
   "execution_count": 1,
   "metadata": {},
   "outputs": [],
   "source": [
    "import math"
   ]
  },
  {
   "cell_type": "code",
   "execution_count": 6,
   "metadata": {},
   "outputs": [
    {
     "name": "stdout",
     "output_type": "stream",
     "text": [
      "24\n"
     ]
    }
   ],
   "source": [
    "list=[1,2,3,4]\n",
    "res=math.prod(list)\n",
    "print(res)"
   ]
  },
  {
   "cell_type": "code",
   "execution_count": 7,
   "metadata": {},
   "outputs": [
    {
     "name": "stdout",
     "output_type": "stream",
     "text": [
      "3 2\n"
     ]
    }
   ],
   "source": [
    "text=str(\"AbCdE\")\n",
    "Hletter=0\n",
    "Lletter=0\n",
    "for letter in text:\n",
    "    if letter.isupper():\n",
    "        Hletter+=1\n",
    "    elif letter.islower():\n",
    "        Lletter+=1\n",
    "print(Hletter,Lletter)"
   ]
  },
  {
   "cell_type": "code",
   "execution_count": 11,
   "metadata": {},
   "outputs": [
    {
     "name": "stdout",
     "output_type": "stream",
     "text": [
      "Is palindrome\n"
     ]
    }
   ],
   "source": [
    "text=str(\"radar\")\n",
    "text2=reversed(text)\n",
    "text3=''.join(text2)\n",
    "if text==text3:\n",
    "    print('Is palindrome')\n",
    "else:\n",
    "    print('Not palindrome')"
   ]
  },
  {
   "cell_type": "code",
   "execution_count": null,
   "metadata": {},
   "outputs": [
    {
     "name": "stdout",
     "output_type": "stream",
     "text": [
      "Square root of 25100 after 2131 milliseconds is 158.42979517754858\n"
     ]
    }
   ],
   "source": [
    "import time\n",
    "number=25100\n",
    "mytime=2131\n",
    "time.sleep(mytime/1000)\n",
    "print(f\"Square root of {number} after {mytime} milliseconds is {math.sqrt(number)}\")"
   ]
  },
  {
   "cell_type": "code",
   "execution_count": 28,
   "metadata": {},
   "outputs": [
    {
     "name": "stdout",
     "output_type": "stream",
     "text": [
      "List is True\n"
     ]
    }
   ],
   "source": [
    "identifier='List is True'\n",
    "tuple1=(True,True,True)\n",
    "for elem in tuple1:\n",
    "    if isinstance(elem,bool):\n",
    "        if elem==False:\n",
    "            identifier='List is False'\n",
    "    else:\n",
    "        identifier='List is False'\n",
    "print(identifier)"
   ]
  }
 ],
 "metadata": {
  "kernelspec": {
   "display_name": "Python 3",
   "language": "python",
   "name": "python3"
  },
  "language_info": {
   "codemirror_mode": {
    "name": "ipython",
    "version": 3
   },
   "file_extension": ".py",
   "mimetype": "text/x-python",
   "name": "python",
   "nbconvert_exporter": "python",
   "pygments_lexer": "ipython3",
   "version": "3.11.0"
  }
 },
 "nbformat": 4,
 "nbformat_minor": 2
}
