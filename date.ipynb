{
 "cells": [
  {
   "cell_type": "code",
   "execution_count": 24,
   "metadata": {},
   "outputs": [
    {
     "name": "stdout",
     "output_type": "stream",
     "text": [
      "02/15/25\n"
     ]
    }
   ],
   "source": [
    "import datetime\n",
    "x=datetime.datetime.now()\n",
    "y=x.strftime(\"%Y\")\n",
    "d=int(x.strftime(\"%d\"))-5\n",
    "m=x.strftime(\"%m\")\n",
    "x1=datetime.datetime(int(y),int(m),int(d))\n",
    "print(x1.strftime(\"%x\"))\n"
   ]
  },
  {
   "cell_type": "code",
   "execution_count": 26,
   "metadata": {},
   "outputs": [
    {
     "name": "stdout",
     "output_type": "stream",
     "text": [
      "02/20/25\n",
      "02/21/25\n",
      "02/19/25\n"
     ]
    }
   ],
   "source": [
    "x=datetime.datetime.now()\n",
    "print(x.strftime(\"%x\"))\n",
    "y=x.strftime(\"%Y\")\n",
    "d=int(x.strftime(\"%d\"))\n",
    "m=x.strftime(\"%m\")\n",
    "\n",
    "x1=datetime.datetime(int(y),int(m),int(d+1))\n",
    "print(x1.strftime(\"%x\"))\n",
    "\n",
    "x1=datetime.datetime(int(y),int(m),int(d-1))\n",
    "print(x1.strftime(\"%x\"))\n"
   ]
  },
  {
   "cell_type": "code",
   "execution_count": 164,
   "metadata": {},
   "outputs": [
    {
     "name": "stdout",
     "output_type": "stream",
     "text": [
      "127444\n",
      "26096250.872556\n"
     ]
    }
   ],
   "source": [
    "x = datetime.datetime.now()\n",
    "print(x.strftime(\"%f\"))\n",
    "\n",
    "x1 = datetime.datetime(2025,12,20)\n",
    "print((x1-x).total_seconds())"
   ]
  }
 ],
 "metadata": {
  "kernelspec": {
   "display_name": "Python 3",
   "language": "python",
   "name": "python3"
  },
  "language_info": {
   "codemirror_mode": {
    "name": "ipython",
    "version": 3
   },
   "file_extension": ".py",
   "mimetype": "text/x-python",
   "name": "python",
   "nbconvert_exporter": "python",
   "pygments_lexer": "ipython3",
   "version": "3.11.0"
  }
 },
 "nbformat": 4,
 "nbformat_minor": 2
}
