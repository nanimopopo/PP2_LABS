{
 "cells": [
  {
   "cell_type": "code",
   "execution_count": 8,
   "metadata": {},
   "outputs": [],
   "source": [
    "import re"
   ]
  },
  {
   "cell_type": "code",
   "execution_count": null,
   "metadata": {},
   "outputs": [
    {
     "name": "stdout",
     "output_type": "stream",
     "text": [
      "ab\n"
     ]
    }
   ],
   "source": [
    "text=str(input())\n",
    "pattern=r'ab*'\n",
    "finder=re.match(pattern,text)\n",
    "if finder:\n",
    "    print(finder.group())\n",
    "else:\n",
    "    print(\"No such match here\")"
   ]
  },
  {
   "cell_type": "code",
   "execution_count": 49,
   "metadata": {},
   "outputs": [
    {
     "name": "stdout",
     "output_type": "stream",
     "text": [
      "No such match here\n"
     ]
    }
   ],
   "source": [
    "text=str(input())\n",
    "pattern=r'abb+'\n",
    "finder=re.match(pattern,text)\n",
    "if finder:\n",
    "    print(finder.group())\n",
    "else:\n",
    "    print(\"No such match here\")"
   ]
  },
  {
   "cell_type": "code",
   "execution_count": 55,
   "metadata": {},
   "outputs": [
    {
     "name": "stdout",
     "output_type": "stream",
     "text": [
      "['abba____abbaa']\n"
     ]
    }
   ],
   "source": [
    "text=str(input())\n",
    "pattern = r'\\b[a-z]+(?:_+[a-z]+)+\\b'\n",
    "finder=re.findall(pattern,text)\n",
    "if finder:\n",
    "    print(finder)\n",
    "else:\n",
    "    print(\"No such match here\")"
   ]
  },
  {
   "cell_type": "code",
   "execution_count": 10,
   "metadata": {},
   "outputs": [
    {
     "name": "stdout",
     "output_type": "stream",
     "text": [
      "['Oda', 'Bitxc']\n"
     ]
    }
   ],
   "source": [
    "text=str(input())\n",
    "pattern = r'[A-Z][a-z]+'\n",
    "finder=re.findall(pattern,text)\n",
    "if finder:\n",
    "    print(finder)\n",
    "else:\n",
    "    print(\"No such match here\")"
   ]
  },
  {
   "cell_type": "code",
   "execution_count": 42,
   "metadata": {},
   "outputs": [
    {
     "name": "stdout",
     "output_type": "stream",
     "text": [
      "No such match here\n"
     ]
    }
   ],
   "source": [
    "text=str(input())\n",
    "pattern = r'a.*b$'#a.b\n",
    "finder=re.findall(pattern,text)\n",
    "if finder:\n",
    "    print(finder)\n",
    "else:\n",
    "    print(\"No such match here\")"
   ]
  },
  {
   "cell_type": "code",
   "execution_count": 44,
   "metadata": {},
   "outputs": [
    {
     "name": "stdout",
     "output_type": "stream",
     "text": [
      "||||||||||||||\n"
     ]
    }
   ],
   "source": [
    "text=str(input())\n",
    "new_text=re.sub(r'\\W','|',text)\n",
    "print(new_text)"
   ]
  },
  {
   "cell_type": "code",
   "execution_count": 30,
   "metadata": {},
   "outputs": [
    {
     "name": "stdout",
     "output_type": "stream",
     "text": [
      "abAb\n"
     ]
    }
   ],
   "source": [
    "text=str(input())\n",
    "components=text.split('_')\n",
    "new_text=components[0]+''.join(x.capitalize() for x in components[1:])\n",
    "print(new_text)"
   ]
  },
  {
   "cell_type": "code",
   "execution_count": 12,
   "metadata": {},
   "outputs": [
    {
     "name": "stdout",
     "output_type": "stream",
     "text": [
      "['', 'bbbb', '']\n"
     ]
    }
   ],
   "source": [
    "text=str(input())\n",
    "components=re.split(r'[A-Z]',text)\n",
    "print(components)\n"
   ]
  },
  {
   "cell_type": "code",
   "execution_count": 22,
   "metadata": {},
   "outputs": [
    {
     "name": "stdout",
     "output_type": "stream",
     "text": [
      " Hello World Example\n"
     ]
    }
   ],
   "source": [
    "def insert_spaces(text):\n",
    "    spaced_text = re.sub(r'(?=[A-Z])', ' ', text)\n",
    "    return spaced_text\n",
    "\n",
    "camel_str = \"HelloWorldExample\"\n",
    "spaced_str = insert_spaces(camel_str)\n",
    "print(spaced_str)  \n"
   ]
  },
  {
   "cell_type": "code",
   "execution_count": null,
   "metadata": {},
   "outputs": [
    {
     "name": "stdout",
     "output_type": "stream",
     "text": [
      "['ay', 'elo']\n",
      "ay_elo\n"
     ]
    }
   ],
   "source": [
    "text=str(input())\n",
    "components=re.split(r'(?=[A-Z])',text)\n",
    "print(components)\n",
    "new_text=components[0]+'_'+'_'.join(x.lower() for x in components[1:])\n",
    "print(new_text)"
   ]
  }
 ],
 "metadata": {
  "kernelspec": {
   "display_name": "Python 3",
   "language": "python",
   "name": "python3"
  },
  "language_info": {
   "codemirror_mode": {
    "name": "ipython",
    "version": 3
   },
   "file_extension": ".py",
   "mimetype": "text/x-python",
   "name": "python",
   "nbconvert_exporter": "python",
   "pygments_lexer": "ipython3",
   "version": "3.11.9"
  }
 },
 "nbformat": 4,
 "nbformat_minor": 2
}
