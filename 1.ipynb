{
 "cells": [
  {
   "cell_type": "code",
   "execution_count": 5,
   "metadata": {},
   "outputs": [
    {
     "name": "stdout",
     "output_type": "stream",
     "text": [
      "Hi\n"
     ]
    }
   ],
   "source": [
    "#Home\n",
    "print(\"Hi\")"
   ]
  },
  {
   "cell_type": "code",
   "execution_count": 22,
   "metadata": {},
   "outputs": [
    {
     "name": "stdout",
     "output_type": "stream",
     "text": [
      "3 5\n",
      "cabbage potato onion \n",
      "The saying is false\n"
     ]
    }
   ],
   "source": [
    "#Variables\n",
    "a=5\n",
    "b=3\n",
    "a,b=b,a\n",
    "print(a,b)\n",
    "\n",
    "veggies = [\"cabbage\",\"potato\",'onion']\n",
    "x, y, z = veggies\n",
    "print(x+\" \"+y+\" \"+z+\" \")\n",
    "\n",
    "saying=False\n",
    "f=\"The saying is true\"\n",
    "def exception():\n",
    "    if (saying!=True):\n",
    "        global f\n",
    "        f=\"The saying is false\"\n",
    "exception()\n",
    "print(f)"
   ]
  },
  {
   "cell_type": "code",
   "execution_count": 7,
   "metadata": {},
   "outputs": [
    {
     "name": "stdout",
     "output_type": "stream",
     "text": [
      "1\n",
      "2\n"
     ]
    }
   ],
   "source": [
    "#Data types\n",
    "a={}\n",
    "n=int(input())\n",
    "for i in range(0,n):\n",
    "    a[i]=input()\n",
    "for j in range(0,len(a)):\n",
    "    print(a[j])"
   ]
  },
  {
   "cell_type": "code",
   "execution_count": null,
   "metadata": {},
   "outputs": [],
   "source": [
    "#Numbers\n",
    "x = 1    \n",
    "y = 2.8  \n",
    "z = 1j   \n",
    "print(type(x))\n",
    "print(type(y))\n",
    "print(type(z))\n",
    "\n",
    "\n",
    "a = float(x)\n",
    "\n",
    "b = int(y)\n",
    "\n",
    "c = complex(x)\n",
    "\n",
    "print(a)\n",
    "print(b)\n",
    "print(c)\n",
    "\n",
    "print(type(a))\n",
    "print(type(b))\n",
    "print(type(c))\n",
    "\n",
    "import random\n",
    "print(random.randrange(1, 10))"
   ]
  },
  {
   "cell_type": "code",
   "execution_count": null,
   "metadata": {},
   "outputs": [],
   "source": [
    "#Casting\n",
    "x = int(1)   \n",
    "y = int(2.8) \n",
    "z = int(\"3\") "
   ]
  },
  {
   "cell_type": "code",
   "execution_count": 18,
   "metadata": {},
   "outputs": [
    {
     "name": "stdout",
     "output_type": "stream",
     "text": [
      "lloworld\n",
      "lloworld\n",
      "hlool\n",
      "wor\n",
      "HELLOWORLD helloworld helloworld ['helloworld'] helloworldAnother one\n",
      "My name is John, I am 36\n",
      "The price is 59.00 dollars\n",
      "The price is 1180 dollars\n",
      "helloworld\n",
      "We are the so-called 'Vikings' from the north.\n"
     ]
    }
   ],
   "source": [
    "#Strings\n",
    "a=str(input())\n",
    "print(a[2::])\n",
    "print(a[2:])\n",
    "print(a[::2]) #2 step print\n",
    "print(a[-5:-2])\n",
    "print(a.upper(),a.lower(),a.strip(),a.split(\",\"),a+\"Another one\")\n",
    "age = 36\n",
    "txt = f\"My name is John, I am {age}\"\n",
    "print(txt)\n",
    "price = 59\n",
    "txt = f\"The price is {price:.2f} dollars\"\n",
    "print(txt)\n",
    "print(f\"The price is {20 * 59} dollars\")\n",
    "for i in range(0,len(a)):\n",
    "    if (a[i].isupper()==True):\n",
    "        a[i]=a[i].lower()\n",
    "print(a)\n",
    "print(\"We are the so-called \\'Vikings\\' from the north.\")"
   ]
  }
 ],
 "metadata": {
  "kernelspec": {
   "display_name": "Python 3",
   "language": "python",
   "name": "python3"
  },
  "language_info": {
   "codemirror_mode": {
    "name": "ipython",
    "version": 3
   },
   "file_extension": ".py",
   "mimetype": "text/x-python",
   "name": "python",
   "nbconvert_exporter": "python",
   "pygments_lexer": "ipython3",
   "version": "3.11.0"
  }
 },
 "nbformat": 4,
 "nbformat_minor": 2
}
